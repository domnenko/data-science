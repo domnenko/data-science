{
 "cells": [
  {
   "cell_type": "markdown",
   "id": "5b96fb7f",
   "metadata": {},
   "source": [
    "# Dataset Merging, Filtering, and Calculating Correlations\n",
    "Data are from CoinGecko, Yahoo!Finance."
   ]
  },
  {
   "cell_type": "code",
   "execution_count": 1,
   "id": "bc770d3d",
   "metadata": {},
   "outputs": [],
   "source": [
    "# libraries\n",
    "import pandas as pd\n",
    "import numpy as np"
   ]
  },
  {
   "cell_type": "markdown",
   "id": "b7b02d1a",
   "metadata": {},
   "source": [
    "## 1. Load Data"
   ]
  },
  {
   "cell_type": "code",
   "execution_count": 2,
   "id": "3db5ff23",
   "metadata": {},
   "outputs": [],
   "source": [
    "# load the data set with bitcoin price, market cap, and trade volume\n",
    "df1 = pd.read_csv(r'Inputs\\btc-usd-max.csv')\n",
    "\n",
    "# load the S&P 500 data\n",
    "df2 = pd.read_html(r'Inputs\\yahoo_sp500.html')[0]"
   ]
  },
  {
   "cell_type": "markdown",
   "id": "98f60455",
   "metadata": {},
   "source": [
    "## 2. Process Data"
   ]
  },
  {
   "cell_type": "code",
   "execution_count": 3,
   "id": "cd47269f",
   "metadata": {},
   "outputs": [],
   "source": [
    "# resolve dates\n",
    "df1['snapped_at'] = pd.to_datetime(\n",
    "    df1['snapped_at'],\n",
    "    format='%Y-%m-%d %H:%M:%S %Z'\n",
    ").dt.tz_convert(\n",
    "    None\n",
    ")\n",
    "df2['Date'] = pd.to_datetime(df2['Date'], infer_datetime_format=True)"
   ]
  },
  {
   "cell_type": "code",
   "execution_count": 4,
   "id": "e3c60109",
   "metadata": {},
   "outputs": [],
   "source": [
    "# keep prices only\n",
    "df1 = df1[['snapped_at', 'price']].copy()\n",
    "df2 = df2[\n",
    "    [\n",
    "        'Date',\n",
    "        'Adj Close Adjusted close price adjusted for splits and dividend and/or capital gain distributions.'\n",
    "    ]\n",
    "].copy()\n",
    "\n",
    "# rename columns\n",
    "df1.columns = ['Date', 'Bitcoin']\n",
    "df2.columns = ['Date', 'S&P 500']"
   ]
  },
  {
   "cell_type": "code",
   "execution_count": 5,
   "id": "1ea4f4f3",
   "metadata": {},
   "outputs": [],
   "source": [
    "# keep the same range of dates\n",
    "df1 = df1[df1['Date'].between('2013-04-28', '2025-04-21')].copy()\n",
    "df2 = df2[df2['Date'].between('2013-04-28', '2025-04-21')].copy()"
   ]
  },
  {
   "cell_type": "markdown",
   "id": "5e4e4349",
   "metadata": {},
   "source": [
    "## 3. Merge the Two Data Sets on Dates"
   ]
  },
  {
   "cell_type": "code",
   "execution_count": 6,
   "id": "dedf8f9a",
   "metadata": {},
   "outputs": [],
   "source": [
    "# merge the two data sets\n",
    "df = df1.merge(df2, on=['Date'], how='outer')"
   ]
  },
  {
   "cell_type": "code",
   "execution_count": 7,
   "id": "6fee76ca",
   "metadata": {},
   "outputs": [],
   "source": [
    "# keep the observations where values are not missing\n",
    "df = df[~df['Bitcoin'].isnull() & ~df['S&P 500'].isnull()].copy()"
   ]
  },
  {
   "cell_type": "markdown",
   "id": "dc908671",
   "metadata": {},
   "source": [
    "## 4. Show Correlations"
   ]
  },
  {
   "cell_type": "code",
   "execution_count": 8,
   "id": "1e289c14",
   "metadata": {},
   "outputs": [
    {
     "data": {
      "text/html": [
       "<div>\n",
       "<style scoped>\n",
       "    .dataframe tbody tr th:only-of-type {\n",
       "        vertical-align: middle;\n",
       "    }\n",
       "\n",
       "    .dataframe tbody tr th {\n",
       "        vertical-align: top;\n",
       "    }\n",
       "\n",
       "    .dataframe thead th {\n",
       "        text-align: right;\n",
       "    }\n",
       "</style>\n",
       "<table border=\"1\" class=\"dataframe\">\n",
       "  <thead>\n",
       "    <tr style=\"text-align: right;\">\n",
       "      <th></th>\n",
       "      <th>Bitcoin</th>\n",
       "      <th>S&amp;P 500</th>\n",
       "    </tr>\n",
       "  </thead>\n",
       "  <tbody>\n",
       "    <tr>\n",
       "      <th>Bitcoin</th>\n",
       "      <td>1.000000</td>\n",
       "      <td>0.930246</td>\n",
       "    </tr>\n",
       "    <tr>\n",
       "      <th>S&amp;P 500</th>\n",
       "      <td>0.930246</td>\n",
       "      <td>1.000000</td>\n",
       "    </tr>\n",
       "  </tbody>\n",
       "</table>\n",
       "</div>"
      ],
      "text/plain": [
       "          Bitcoin   S&P 500\n",
       "Bitcoin  1.000000  0.930246\n",
       "S&P 500  0.930246  1.000000"
      ]
     },
     "execution_count": 8,
     "metadata": {},
     "output_type": "execute_result"
    }
   ],
   "source": [
    "# simple correlations in levels (don't make much sense due to non-stationarity)\n",
    "df.set_index(['Date']).corr()"
   ]
  },
  {
   "cell_type": "code",
   "execution_count": 9,
   "id": "087f3c02",
   "metadata": {},
   "outputs": [],
   "source": [
    "# produce simple returns and log returns\n",
    "df = df.set_index(['Date']).copy()\n",
    "df['Bitcoin R'] = (df['Bitcoin'] / df['Bitcoin'].shift(1) - 1)\n",
    "df['S&P 500 R'] = (df['S&P 500'] / df['S&P 500'].shift(1) - 1)"
   ]
  },
  {
   "cell_type": "code",
   "execution_count": 10,
   "id": "3e869923",
   "metadata": {},
   "outputs": [
    {
     "data": {
      "text/html": [
       "<div>\n",
       "<style scoped>\n",
       "    .dataframe tbody tr th:only-of-type {\n",
       "        vertical-align: middle;\n",
       "    }\n",
       "\n",
       "    .dataframe tbody tr th {\n",
       "        vertical-align: top;\n",
       "    }\n",
       "\n",
       "    .dataframe thead th {\n",
       "        text-align: right;\n",
       "    }\n",
       "</style>\n",
       "<table border=\"1\" class=\"dataframe\">\n",
       "  <thead>\n",
       "    <tr style=\"text-align: right;\">\n",
       "      <th></th>\n",
       "      <th>Bitcoin R</th>\n",
       "      <th>S&amp;P 500 R</th>\n",
       "    </tr>\n",
       "  </thead>\n",
       "  <tbody>\n",
       "    <tr>\n",
       "      <th>Bitcoin R</th>\n",
       "      <td>1.000000</td>\n",
       "      <td>-0.011998</td>\n",
       "    </tr>\n",
       "    <tr>\n",
       "      <th>S&amp;P 500 R</th>\n",
       "      <td>-0.011998</td>\n",
       "      <td>1.000000</td>\n",
       "    </tr>\n",
       "  </tbody>\n",
       "</table>\n",
       "</div>"
      ],
      "text/plain": [
       "           Bitcoin R  S&P 500 R\n",
       "Bitcoin R   1.000000  -0.011998\n",
       "S&P 500 R  -0.011998   1.000000"
      ]
     },
     "execution_count": 10,
     "metadata": {},
     "output_type": "execute_result"
    }
   ],
   "source": [
    "# show correlations in returns for the whole range\n",
    "df[~df.isnull().any(axis=1)][['Bitcoin R', 'S&P 500 R']].corr()"
   ]
  },
  {
   "cell_type": "code",
   "execution_count": 11,
   "id": "49d9d78c",
   "metadata": {},
   "outputs": [
    {
     "data": {
      "text/html": [
       "<div>\n",
       "<style scoped>\n",
       "    .dataframe tbody tr th:only-of-type {\n",
       "        vertical-align: middle;\n",
       "    }\n",
       "\n",
       "    .dataframe tbody tr th {\n",
       "        vertical-align: top;\n",
       "    }\n",
       "\n",
       "    .dataframe thead th {\n",
       "        text-align: right;\n",
       "    }\n",
       "</style>\n",
       "<table border=\"1\" class=\"dataframe\">\n",
       "  <thead>\n",
       "    <tr style=\"text-align: right;\">\n",
       "      <th></th>\n",
       "      <th>Bitcoin R</th>\n",
       "      <th>S&amp;P 500 R</th>\n",
       "    </tr>\n",
       "  </thead>\n",
       "  <tbody>\n",
       "    <tr>\n",
       "      <th>Bitcoin R</th>\n",
       "      <td>1.000000</td>\n",
       "      <td>0.020935</td>\n",
       "    </tr>\n",
       "    <tr>\n",
       "      <th>S&amp;P 500 R</th>\n",
       "      <td>0.020935</td>\n",
       "      <td>1.000000</td>\n",
       "    </tr>\n",
       "  </tbody>\n",
       "</table>\n",
       "</div>"
      ],
      "text/plain": [
       "           Bitcoin R  S&P 500 R\n",
       "Bitcoin R   1.000000   0.020935\n",
       "S&P 500 R   0.020935   1.000000"
      ]
     },
     "execution_count": 11,
     "metadata": {},
     "output_type": "execute_result"
    }
   ],
   "source": [
    "# show correlations in returns for the last five years\n",
    "df[df.index >= '2020-04-22'][['Bitcoin R', 'S&P 500 R']].corr()"
   ]
  },
  {
   "cell_type": "code",
   "execution_count": 12,
   "id": "e632e95d",
   "metadata": {},
   "outputs": [
    {
     "data": {
      "text/plain": [
       "(-0.2, 0.2)"
      ]
     },
     "execution_count": 12,
     "metadata": {},
     "output_type": "execute_result"
    },
    {
     "data": {
      "image/png": "[encoded data removed]",
      "text/plain": [
       "<Figure size 432x288 with 1 Axes>"
      ]
     },
     "metadata": {
      "needs_background": "light"
     },
     "output_type": "display_data"
    }
   ],
   "source": [
    "# show a scatter plot of returns for the last five years\n",
    "plt = df[\n",
    "    df.index >= '2020-04-22'\n",
    "][\n",
    "    ['Bitcoin R', 'S&P 500 R']\n",
    "].plot.scatter(\n",
    "    x='Bitcoin R',\n",
    "    y='S&P 500 R',\n",
    "    s=2\n",
    ")\n",
    "plt.set_xlim(-0.2, 0.2)\n",
    "plt.set_ylim(-0.2, 0.2)"
   ]
  },
  {
   "cell_type": "markdown",
   "id": "711aa773",
   "metadata": {},
   "source": [
    "End."
   ]
  }
 ],
 "metadata": {
  "kernelspec": {
   "display_name": "Python 3",
   "language": "python",
   "name": "python3"
  },
  "language_info": {
   "codemirror_mode": {
    "name": "ipython",
    "version": 3
   },
   "file_extension": ".py",
   "mimetype": "text/x-python",
   "name": "python",
   "nbconvert_exporter": "python",
   "pygments_lexer": "ipython3",
   "version": "3.7.16"
  }
 },
 "nbformat": 4,
 "nbformat_minor": 5
}
